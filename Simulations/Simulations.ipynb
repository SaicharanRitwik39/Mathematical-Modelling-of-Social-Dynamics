{
 "cells": [
  {
   "cell_type": "code",
   "execution_count": 9,
   "metadata": {},
   "outputs": [],
   "source": [
    "import numpy as np\n",
    "import matplotlib.pyplot as plt\n",
    "from scipy.integrate import odeint\n",
    "from mpl_toolkits.mplot3d import Axes3D\n",
    "import ipywidgets as widgets\n",
    "from IPython.display import display"
   ]
  },
  {
   "cell_type": "code",
   "execution_count": 11,
   "metadata": {},
   "outputs": [
    {
     "data": {
      "application/vnd.jupyter.widget-view+json": {
       "model_id": "9e1900106c604ba3991058b9b5b264d8",
       "version_major": 2,
       "version_minor": 0
      },
      "text/plain": [
       "interactive(children=(FloatSlider(value=0.12, description='mu:', max=0.2, min=0.01, step=0.01), FloatSlider(va…"
      ]
     },
     "metadata": {},
     "output_type": "display_data"
    }
   ],
   "source": [
    "# Define the function for the system of differential equations\n",
    "def f(state, t, mu, beta, sigma, rho, gamma, T):\n",
    "    S, Q, A = state  # Unpack the state vector\n",
    "    dSdt = beta * S * (1 - S - Q - A) / T - rho * S * A / T + sigma * Q * S - mu * S\n",
    "    dQdt = rho * S * A / T - sigma * Q * S - gamma * Q - mu * Q\n",
    "    dAdt = T * mu * rho - A * mu + Q * gamma\n",
    "    return [dSdt, dQdt, dAdt]\n",
    "\n",
    "# Define the initial conditions and time points\n",
    "state0 = [89.11, 180, 70]\n",
    "t = np.arange(0.0, 40.0, 0.01)\n",
    "\n",
    "# Create a function to simulate and plot the system\n",
    "def simulate_system(mu, beta, sigma, rho, gamma, T):\n",
    "    states = odeint(f, state0, t, args=(mu, beta, sigma, rho, gamma, T))\n",
    "\n",
    "    fig = plt.figure()\n",
    "    ax = fig.gca(projection=\"3d\")\n",
    "    ax.plot(states[:, 0], states[:, 1], states[:, 2])\n",
    "    ax.set_xlabel('$S$')\n",
    "    ax.set_ylabel('$Q$')\n",
    "    ax.set_zlabel('$A$')\n",
    "    ax.set_title('Nonlinear System Simulation')\n",
    "    plt.show()\n",
    "\n",
    "# Create interactive widgets for parameter values\n",
    "mu_slider = widgets.FloatSlider(value=0.12, min=0.01, max=0.2, step=0.01, description='mu:')\n",
    "beta_slider = widgets.FloatSlider(value=0.01, min=0.001, max=0.1, step=0.001, description='beta:')\n",
    "sigma_slider = widgets.FloatSlider(value=0.01, min=0.001, max=0.1, step=0.001, description='sigma:')\n",
    "rho_slider = widgets.FloatSlider(value=0.34, min=0.1, max=1.0, step=0.01, description='rho:')\n",
    "gamma_slider = widgets.FloatSlider(value=0.042, min=0.001, max=0.1, step=0.001, description='gamma:')\n",
    "T_slider = widgets.FloatSlider(value=100000, min=10000, max=200000, step=10000, description='T:')\n",
    "\n",
    "# Create an interactive interface\n",
    "interactive_plot = widgets.interactive(simulate_system, mu=mu_slider, beta=beta_slider, sigma=sigma_slider, rho=rho_slider, gamma=gamma_slider, T=T_slider)\n",
    "display(interactive_plot)"
   ]
  },
  {
   "cell_type": "code",
   "execution_count": 13,
   "metadata": {},
   "outputs": [
    {
     "data": {
      "image/png": "[encoded data removed]",
      "text/plain": [
       "<Figure size 576x432 with 1 Axes>"
      ]
     },
     "metadata": {
      "needs_background": "light"
     },
     "output_type": "display_data"
    }
   ],
   "source": [
    "import numpy as np\n",
    "import matplotlib.pyplot as plt\n",
    "from scipy.integrate import odeint\n",
    "\n",
    "# Define the function for the system of differential equations\n",
    "def f(state, t, mu, beta, sigma, rho, gamma, T):\n",
    "    S, Q, A = state\n",
    "    dSdt = beta * S * (1 - S - Q - A) / T - rho * S * A / T + sigma * Q * S - mu * S\n",
    "    dQdt = rho * S * A / T - sigma * Q * S - gamma * Q - mu * Q\n",
    "    dAdt = T * mu * rho - A * mu + Q * gamma\n",
    "    return [dSdt, dQdt, dAdt]\n",
    "\n",
    "# Define parameter values\n",
    "mu = 0.12\n",
    "beta = 0.01\n",
    "sigma = 0.01\n",
    "rho = 0.34\n",
    "gamma = 0.042\n",
    "T = 100000\n",
    "\n",
    "# Initial conditions\n",
    "S0 = 0.9  # Initial value for S\n",
    "Q0 = 0.1  # Initial value for Q\n",
    "A0 = 0.0  # Initial value for A\n",
    "state0 = [S0, Q0, A0]\n",
    "\n",
    "# Time points for simulation\n",
    "t = np.linspace(0, 100, 1000)\n",
    "\n",
    "# Solve the system of differential equations\n",
    "states = odeint(f, state0, t, args=(mu, beta, sigma, rho, gamma, T))\n",
    "\n",
    "# Extract S and Q values from the simulation\n",
    "S_values = states[:, 0]\n",
    "Q_values = states[:, 1]\n",
    "\n",
    "# Create a phase plane plot\n",
    "plt.figure(figsize=(8, 6))\n",
    "plt.plot(S_values, Q_values)\n",
    "plt.xlabel('S')\n",
    "plt.ylabel('Q')\n",
    "plt.title('Phase Plane Plot: Q vs. S')\n",
    "plt.grid(True)\n",
    "plt.show()\n"
   ]
  },
  {
   "cell_type": "code",
   "execution_count": 15,
   "metadata": {},
   "outputs": [
    {
     "data": {
      "application/vnd.jupyter.widget-view+json": {
       "model_id": "8b3e352446854a6ab0d782e000c1dab3",
       "version_major": 2,
       "version_minor": 0
      },
      "text/plain": [
       "interactive(children=(FloatSlider(value=0.9, description='Initial S:', max=1.0, step=0.01), FloatSlider(value=…"
      ]
     },
     "metadata": {},
     "output_type": "display_data"
    }
   ],
   "source": [
    "# Define the function for the system of differential equations\n",
    "def f(state, t, mu, beta, sigma, rho, gamma, T):\n",
    "    S, Q, A = state\n",
    "    dSdt = beta * S * (1 - S - Q - A) / T - rho * S * A / T + sigma * Q * S - mu * S\n",
    "    dQdt = rho * S * A / T - sigma * Q * S - gamma * Q - mu * Q\n",
    "    dAdt = T * mu * rho - A * mu + Q * gamma\n",
    "    return [dSdt, dQdt, dAdt]\n",
    "\n",
    "# Create a function to simulate and plot the phase plane\n",
    "def plot_phase_plane(S0, Q0):\n",
    "    # Set parameter values\n",
    "    mu = 0.12\n",
    "    beta = 0.01\n",
    "    sigma = 0.01\n",
    "    rho = 0.34\n",
    "    gamma = 0.042\n",
    "    T = 100000\n",
    "\n",
    "    # Initial conditions\n",
    "    state0 = [S0, Q0, 0.0]\n",
    "\n",
    "    # Time points for simulation\n",
    "    t = np.linspace(0, 100, 1000)\n",
    "\n",
    "    # Solve the system of differential equations\n",
    "    states = odeint(f, state0, t, args=(mu, beta, sigma, rho, gamma, T))\n",
    "\n",
    "    # Extract S and Q values from the simulation\n",
    "    S_values = states[:, 0]\n",
    "    Q_values = states[:, 1]\n",
    "\n",
    "    # Create a phase plane plot\n",
    "    plt.figure(figsize=(8, 6))\n",
    "    plt.plot(S_values, Q_values)\n",
    "    plt.xlabel('S')\n",
    "    plt.ylabel('Q')\n",
    "    plt.title('Phase Plane Plot: Q vs. S')\n",
    "    plt.grid(True)\n",
    "    plt.show()\n",
    "\n",
    "# Create interactive widgets for initial conditions\n",
    "S0_slider = widgets.FloatSlider(value=0.9, min=0.0, max=1.0, step=0.01, description='Initial S:')\n",
    "Q0_slider = widgets.FloatSlider(value=0.1, min=0.0, max=1.0, step=0.01, description='Initial Q:')\n",
    "\n",
    "# Create an interactive interface\n",
    "interactive_plot = widgets.interactive(plot_phase_plane, S0=S0_slider, Q0=Q0_slider)\n",
    "display(interactive_plot)\n"
   ]
  },
  {
   "cell_type": "code",
   "execution_count": 16,
   "metadata": {},
   "outputs": [
    {
     "data": {
      "application/vnd.jupyter.widget-view+json": {
       "model_id": "f1d810ff7e6a449db04bb77e8e78c910",
       "version_major": 2,
       "version_minor": 0
      },
      "text/plain": [
       "interactive(children=(FloatSlider(value=0.1, description='Initial Q:', max=1.0, step=0.01), FloatSlider(value=…"
      ]
     },
     "metadata": {},
     "output_type": "display_data"
    }
   ],
   "source": [
    "# Define the function for the system of differential equations\n",
    "def f(state, t, mu, beta, sigma, rho, gamma, T):\n",
    "    S, Q, A = state\n",
    "    dSdt = beta * S * (1 - S - Q - A) / T - rho * S * A / T + sigma * Q * S - mu * S\n",
    "    dQdt = rho * S * A / T - sigma * Q * S - gamma * Q - mu * Q\n",
    "    dAdt = T * mu * rho - A * mu + Q * gamma\n",
    "    return [dSdt, dQdt, dAdt]\n",
    "\n",
    "# Create a function to simulate and plot the phase plane for Q and A\n",
    "def plot_phase_plane_QA(Q0, A0):\n",
    "    # Set parameter values\n",
    "    mu = 0.12\n",
    "    beta = 0.01\n",
    "    sigma = 0.01\n",
    "    rho = 0.34\n",
    "    gamma = 0.042\n",
    "    T = 100000\n",
    "\n",
    "    # Initial conditions\n",
    "    state0 = [0.9, Q0, A0]\n",
    "\n",
    "    # Time points for simulation\n",
    "    t = np.linspace(0, 100, 1000)\n",
    "\n",
    "    # Solve the system of differential equations\n",
    "    states = odeint(f, state0, t, args=(mu, beta, sigma, rho, gamma, T))\n",
    "\n",
    "    # Extract Q and A values from the simulation\n",
    "    Q_values = states[:, 1]\n",
    "    A_values = states[:, 2]\n",
    "\n",
    "    # Create a phase plane plot for Q and A\n",
    "    plt.figure(figsize=(8, 6))\n",
    "    plt.plot(Q_values, A_values)\n",
    "    plt.xlabel('Q')\n",
    "    plt.ylabel('A')\n",
    "    plt.title('Phase Plane Plot: A vs. Q')\n",
    "    plt.grid(True)\n",
    "    plt.show()\n",
    "\n",
    "# Create interactive widgets for initial conditions of Q and A\n",
    "Q0_slider = widgets.FloatSlider(value=0.1, min=0.0, max=1.0, step=0.01, description='Initial Q:')\n",
    "A0_slider = widgets.FloatSlider(value=0.0, min=0.0, max=1.0, step=0.01, description='Initial A:')\n",
    "\n",
    "# Create an interactive interface\n",
    "interactive_plot_QA = widgets.interactive(plot_phase_plane_QA, Q0=Q0_slider, A0=A0_slider)\n",
    "display(interactive_plot_QA)\n"
   ]
  },
  {
   "cell_type": "code",
   "execution_count": 17,
   "metadata": {},
   "outputs": [
    {
     "data": {
      "application/vnd.jupyter.widget-view+json": {
       "model_id": "1cd73b7375554365b45dfc24c42c3cac",
       "version_major": 2,
       "version_minor": 0
      },
      "text/plain": [
       "interactive(children=(FloatSlider(value=0.9, description='Initial S:', max=1.0, step=0.01), FloatSlider(value=…"
      ]
     },
     "metadata": {},
     "output_type": "display_data"
    }
   ],
   "source": [
    "import numpy as np\n",
    "import matplotlib.pyplot as plt\n",
    "from scipy.integrate import odeint\n",
    "import ipywidgets as widgets\n",
    "from IPython.display import display\n",
    "\n",
    "# Define the function for the system of differential equations\n",
    "def f(state, t, mu, beta, sigma, rho, gamma, T):\n",
    "    S, Q, A = state\n",
    "    dSdt = beta * S * (1 - S - Q - A) / T - rho * S * A / T + sigma * Q * S - mu * S\n",
    "    dQdt = rho * S * A / T - sigma * Q * S - gamma * Q - mu * Q\n",
    "    dAdt = T * mu * rho - A * mu + Q * gamma\n",
    "    return [dSdt, dQdt, dAdt]\n",
    "\n",
    "# Create a function to simulate and plot the phase plane for S and A\n",
    "def plot_phase_plane_SA(S0, A0):\n",
    "    # Set parameter values\n",
    "    mu = 0.12\n",
    "    beta = 0.01\n",
    "    sigma = 0.01\n",
    "    rho = 0.34\n",
    "    gamma = 0.042\n",
    "    T = 100000\n",
    "\n",
    "    # Initial conditions\n",
    "    state0 = [S0, 0.1, A0]\n",
    "\n",
    "    # Time points for simulation\n",
    "    t = np.linspace(0, 100, 1000)\n",
    "\n",
    "    # Solve the system of differential equations\n",
    "    states = odeint(f, state0, t, args=(mu, beta, sigma, rho, gamma, T))\n",
    "\n",
    "    # Extract S and A values from the simulation\n",
    "    S_values = states[:, 0]\n",
    "    A_values = states[:, 2]\n",
    "\n",
    "    # Create a phase plane plot for S and A\n",
    "    plt.figure(figsize=(8, 6))\n",
    "    plt.plot(S_values, A_values)\n",
    "    plt.xlabel('S')\n",
    "    plt.ylabel('A')\n",
    "    plt.title('Phase Plane Plot: A vs. S')\n",
    "    plt.grid(True)\n",
    "    plt.show()\n",
    "\n",
    "# Create interactive widgets for initial conditions of S and A\n",
    "S0_slider = widgets.FloatSlider(value=0.9, min=0.0, max=1.0, step=0.01, description='Initial S:')\n",
    "A0_slider = widgets.FloatSlider(value=0.0, min=0.0, max=1.0, step=0.01, description='Initial A:')\n",
    "\n",
    "# Create an interactive interface\n",
    "interactive_plot_SA = widgets.interactive(plot_phase_plane_SA, S0=S0_slider, A0=A0_slider)\n",
    "display(interactive_plot_SA)\n"
   ]
  },
  {
   "cell_type": "code",
   "execution_count": null,
   "metadata": {},
   "outputs": [],
   "source": []
  }
 ],
 "metadata": {
  "kernelspec": {
   "display_name": "Python 3",
   "language": "python",
   "name": "python3"
  },
  "language_info": {
   "codemirror_mode": {
    "name": "ipython",
    "version": 3
   },
   "file_extension": ".py",
   "mimetype": "text/x-python",
   "name": "python",
   "nbconvert_exporter": "python",
   "pygments_lexer": "ipython3",
   "version": "3.8.5"
  }
 },
 "nbformat": 4,
 "nbformat_minor": 4
}
