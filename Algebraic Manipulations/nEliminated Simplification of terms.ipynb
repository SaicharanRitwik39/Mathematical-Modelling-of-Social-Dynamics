{
 "cells": [
  {
   "cell_type": "code",
   "execution_count": 11,
   "metadata": {},
   "outputs": [],
   "source": [
    "from sympy import *\n",
    "beta,gamma,sigma,mu,T,rho = symbols('beta gamma sigma mu T rho') \n",
    "a = symbols('a')\n",
    "\n",
    "phi = mu*T*(gamma+mu)\n",
    "w = mu*T*sigma-gamma*rho\n",
    "eta = (gamma+mu)*rho*mu*T*T\n",
    "kappa = rho*mu*T*T*sigma\n",
    "\n",
    "expr1_coeffa = beta*w\n",
    "expr2_coeffb = beta*w - beta*phi - rho*rho*mu*T - kappa - rho*kappa - T*mu*w + T*T*rho*rho*sigma*mu\n",
    "expr3_coeffc = rho*eta+phi*(T*mu-beta)"
   ]
  },
  {
   "cell_type": "code",
   "execution_count": 12,
   "metadata": {},
   "outputs": [
    {
     "data": {
      "text/latex": [
       "$\\displaystyle T \\beta \\mu \\sigma - \\beta \\gamma \\rho$"
      ],
      "text/plain": [
       "T*beta*mu*sigma - beta*gamma*rho"
      ]
     },
     "execution_count": 12,
     "metadata": {},
     "output_type": "execute_result"
    }
   ],
   "source": [
    "expand(expr1_coeffa)"
   ]
  },
  {
   "cell_type": "code",
   "execution_count": 14,
   "metadata": {},
   "outputs": [
    {
     "data": {
      "text/latex": [
       "$\\displaystyle - T^{2} \\mu \\rho \\sigma + T \\left(- \\beta \\mu \\left(\\gamma + \\mu\\right) - \\mu \\rho^{2} - \\mu \\left(T \\mu \\sigma - \\gamma \\rho\\right)\\right) + \\beta \\left(T \\mu \\sigma - \\gamma \\rho\\right)$"
      ],
      "text/plain": [
       "-T**2*mu*rho*sigma + T*(-beta*mu*(gamma + mu) - mu*rho**2 - mu*(T*mu*sigma - gamma*rho)) + beta*(T*mu*sigma - gamma*rho)"
      ]
     },
     "execution_count": 14,
     "metadata": {},
     "output_type": "execute_result"
    }
   ],
   "source": [
    "expand(expr2_coeffb)\n",
    "collect(expr2_coeffb,T)"
   ]
  },
  {
   "cell_type": "code",
   "execution_count": 10,
   "metadata": {},
   "outputs": [
    {
     "data": {
      "text/latex": [
       "$\\displaystyle T^{2} \\gamma \\mu^{2} + T^{2} \\gamma \\mu \\rho^{2} + T^{2} \\mu^{3} + T^{2} \\mu^{2} \\rho^{2} - T \\beta \\gamma \\mu - T \\beta \\mu^{2}$"
      ],
      "text/plain": [
       "T**2*gamma*mu**2 + T**2*gamma*mu*rho**2 + T**2*mu**3 + T**2*mu**2*rho**2 - T*beta*gamma*mu - T*beta*mu**2"
      ]
     },
     "execution_count": 10,
     "metadata": {},
     "output_type": "execute_result"
    }
   ],
   "source": [
    "expand(expr3_coeffc)"
   ]
  },
  {
   "cell_type": "code",
   "execution_count": null,
   "metadata": {},
   "outputs": [],
   "source": []
  }
 ],
 "metadata": {
  "kernelspec": {
   "display_name": "Python 3",
   "language": "python",
   "name": "python3"
  },
  "language_info": {
   "codemirror_mode": {
    "name": "ipython",
    "version": 3
   },
   "file_extension": ".py",
   "mimetype": "text/x-python",
   "name": "python",
   "nbconvert_exporter": "python",
   "pygments_lexer": "ipython3",
   "version": "3.8.5"
  }
 },
 "nbformat": 4,
 "nbformat_minor": 4
}
