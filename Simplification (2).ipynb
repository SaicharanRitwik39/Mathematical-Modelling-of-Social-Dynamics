{
 "cells": [
  {
   "cell_type": "code",
   "execution_count": 39,
   "metadata": {},
   "outputs": [
    {
     "data": {
      "text/latex": [
       "$\\displaystyle T^{2} a^{2} \\mu^{2} \\sigma^{2} - 2 T^{2} a \\mu^{2} \\rho \\sigma^{2} + T^{2} \\mu^{2} \\rho^{2} \\sigma^{2} - T a^{2} \\gamma \\mu \\rho \\sigma - T a \\gamma \\mu^{2} \\sigma + T a \\gamma \\mu \\rho^{2} \\sigma + T \\gamma \\mu^{2} \\rho \\sigma + a \\gamma^{2} \\mu \\rho$"
      ],
      "text/plain": [
       "T**2*a**2*mu**2*sigma**2 - 2*T**2*a*mu**2*rho*sigma**2 + T**2*mu**2*rho**2*sigma**2 - T*a**2*gamma*mu*rho*sigma - T*a*gamma*mu**2*sigma + T*a*gamma*mu*rho**2*sigma + T*gamma*mu**2*rho*sigma + a*gamma**2*mu*rho"
      ]
     },
     "execution_count": 39,
     "metadata": {},
     "output_type": "execute_result"
    }
   ],
   "source": [
    "from sympy import *\n",
    "gamma,sigma,mu,T,rho = symbols('gamma sigma mu T rho') \n",
    "a = symbols('a')\n",
    "expr = (gamma*mu-(sigma*mu*T*(a-rho)))*(gamma*rho*a - sigma*mu*T*(a-rho))\n",
    "expand(expr)\n",
    "#expand(mu-(sigma*mu*T*(a-rho))/gamma)"
   ]
  },
  {
   "cell_type": "code",
   "execution_count": 44,
   "metadata": {},
   "outputs": [
    {
     "data": {
      "text/latex": [
       "$\\displaystyle - T^{2} a^{2} \\mu^{2} \\sigma^{2} + 2 T^{2} a \\mu^{2} \\rho \\sigma^{2} - T^{2} \\mu^{2} \\rho^{2} \\sigma^{2} + T a^{2} \\beta \\mu^{2} \\sigma + T a^{2} \\beta \\mu \\sigma + T a^{2} \\gamma \\mu \\rho \\sigma + T a^{2} \\mu \\rho \\sigma - T a \\beta \\gamma \\mu \\sigma - 2 T a \\beta \\mu^{2} \\rho \\sigma - T a \\beta \\mu \\rho \\sigma + T a \\gamma \\mu^{2} \\sigma - T a \\gamma \\mu \\rho^{2} \\sigma - T a \\mu \\rho^{2} \\sigma + T \\beta \\gamma \\mu \\rho \\sigma + T \\beta \\mu^{2} \\rho^{2} \\sigma - T \\gamma \\mu^{2} \\rho \\sigma - a^{2} \\beta \\gamma \\mu \\rho - a^{2} \\beta \\gamma \\rho - a^{2} \\gamma \\rho^{2} + a \\beta \\gamma^{2} \\rho + a \\beta \\gamma \\mu \\rho^{2} - a \\beta \\gamma \\mu - a \\beta \\mu^{2} - a \\gamma^{2} \\mu \\rho + \\beta \\gamma \\mu \\rho + \\beta \\mu^{2} \\rho$"
      ],
      "text/plain": [
       "-T**2*a**2*mu**2*sigma**2 + 2*T**2*a*mu**2*rho*sigma**2 - T**2*mu**2*rho**2*sigma**2 + T*a**2*beta*mu**2*sigma + T*a**2*beta*mu*sigma + T*a**2*gamma*mu*rho*sigma + T*a**2*mu*rho*sigma - T*a*beta*gamma*mu*sigma - 2*T*a*beta*mu**2*rho*sigma - T*a*beta*mu*rho*sigma + T*a*gamma*mu**2*sigma - T*a*gamma*mu*rho**2*sigma - T*a*mu*rho**2*sigma + T*beta*gamma*mu*rho*sigma + T*beta*mu**2*rho**2*sigma - T*gamma*mu**2*rho*sigma - a**2*beta*gamma*mu*rho - a**2*beta*gamma*rho - a**2*gamma*rho**2 + a*beta*gamma**2*rho + a*beta*gamma*mu*rho**2 - a*beta*gamma*mu - a*beta*mu**2 - a*gamma**2*mu*rho + beta*gamma*mu*rho + beta*mu**2*rho"
      ]
     },
     "execution_count": 44,
     "metadata": {},
     "output_type": "execute_result"
    }
   ],
   "source": [
    "from sympy import *\n",
    "beta,gamma,sigma,mu,T,rho = symbols('beta gamma sigma mu T rho') \n",
    "a = symbols('a')\n",
    "expr1 = (gamma*mu-(sigma*mu*T*(a-rho)))*(gamma*rho*a - sigma*mu*T*(a-rho))\n",
    "expr = (beta*gamma*(gamma*rho*a - sigma*mu*T*(a-rho))) - (beta*mu*(a-rho)*(mu+gamma)) - (beta*a*(gamma*rho*a - sigma*mu*T*(a-rho))) - (rho*a*(gamma*rho*a - sigma*mu*T*(a-rho))) - (beta*mu*(a-rho)*(gamma*rho*a - sigma*mu*T*(a-rho))) - expr1 \n",
    "expand(expr)\n",
    "#collect(expr,a)"
   ]
  },
  {
   "cell_type": "code",
   "execution_count": 48,
   "metadata": {},
   "outputs": [
    {
     "data": {
      "text/latex": [
       "$\\displaystyle - T^{2} \\gamma^{2} \\mu^{2} - \\beta \\gamma \\mu \\rho - \\beta \\gamma \\rho - \\gamma \\rho^{2} + \\sigma \\left(T \\beta \\mu^{2} + T \\beta \\mu + T \\mu \\rho\\right)$"
      ],
      "text/plain": [
       "-T**2*gamma**2*mu**2 - beta*gamma*mu*rho - beta*gamma*rho - gamma*rho**2 + sigma*(T*beta*mu**2 + T*beta*mu + T*mu*rho)"
      ]
     },
     "execution_count": 48,
     "metadata": {},
     "output_type": "execute_result"
    }
   ],
   "source": [
    "expr69 = T*beta*mu*mu*sigma + T*beta*mu*sigma + T*mu*rho*sigma - gamma*rho*rho - beta*gamma*rho - beta*gamma*mu*rho - T*T*mu*mu*gamma*gamma \n",
    "collect(expr69, sigma)"
   ]
  },
  {
   "cell_type": "code",
   "execution_count": 58,
   "metadata": {},
   "outputs": [
    {
     "data": {
      "text/latex": [
       "$\\displaystyle 2 T^{2} \\mu^{2} \\rho \\sigma^{2} + T \\left(- \\beta \\gamma \\mu \\sigma - 2 \\beta \\mu^{2} \\rho \\sigma - \\beta \\mu \\rho \\sigma + \\gamma \\mu^{2} \\sigma - \\gamma \\mu \\rho^{2} \\sigma - \\mu \\rho^{2} \\sigma\\right) + \\beta \\gamma^{2} \\rho + \\beta \\gamma \\mu \\rho^{2} - \\beta \\gamma \\mu - \\beta \\mu^{2} - \\gamma^{2} \\mu \\rho$"
      ],
      "text/plain": [
       "2*T**2*mu**2*rho*sigma**2 + T*(-beta*gamma*mu*sigma - 2*beta*mu**2*rho*sigma - beta*mu*rho*sigma + gamma*mu**2*sigma - gamma*mu*rho**2*sigma - mu*rho**2*sigma) + beta*gamma**2*rho + beta*gamma*mu*rho**2 - beta*gamma*mu - beta*mu**2 - gamma**2*mu*rho"
      ]
     },
     "execution_count": 58,
     "metadata": {},
     "output_type": "execute_result"
    }
   ],
   "source": [
    "expr42 = 2*T*T*mu*mu*rho*sigma*sigma - T*beta*gamma*mu*sigma - 2*T*beta*mu*mu*rho*sigma - T*beta*mu*rho*sigma + T*gamma*mu*mu*sigma - T*gamma*mu*rho*rho*sigma - T*mu*rho*rho*sigma + beta*gamma*gamma*rho + beta*gamma*mu*rho*rho - beta*gamma*mu - beta*mu*mu - gamma*gamma*mu*rho\n",
    "collect(expr42, T)\n",
    "#factor(expr42)"
   ]
  },
  {
   "cell_type": "code",
   "execution_count": 59,
   "metadata": {},
   "outputs": [
    {
     "data": {
      "text/latex": [
       "$\\displaystyle \\mu \\rho \\left(- T^{2} \\mu \\rho \\sigma^{2} + T \\beta \\gamma \\sigma + T \\beta \\mu \\rho \\sigma - T \\gamma \\mu \\sigma + \\beta \\gamma + \\beta \\mu\\right)$"
      ],
      "text/plain": [
       "mu*rho*(-T**2*mu*rho*sigma**2 + T*beta*gamma*sigma + T*beta*mu*rho*sigma - T*gamma*mu*sigma + beta*gamma + beta*mu)"
      ]
     },
     "execution_count": 59,
     "metadata": {},
     "output_type": "execute_result"
    }
   ],
   "source": [
    "expr4269 = -T*T*mu*mu*rho*rho*sigma*sigma + T*beta*gamma*mu*rho*sigma + T*beta*mu*mu*rho*rho*sigma - T*gamma*mu*mu*rho*sigma + beta*gamma*mu*rho + beta*mu*mu*rho\n",
    "simplify(expr4269)"
   ]
  },
  {
   "cell_type": "code",
   "execution_count": null,
   "metadata": {},
   "outputs": [],
   "source": []
  }
 ],
 "metadata": {
  "kernelspec": {
   "display_name": "Python 3",
   "language": "python",
   "name": "python3"
  },
  "language_info": {
   "codemirror_mode": {
    "name": "ipython",
    "version": 3
   },
   "file_extension": ".py",
   "mimetype": "text/x-python",
   "name": "python",
   "nbconvert_exporter": "python",
   "pygments_lexer": "ipython3",
   "version": "3.8.5"
  }
 },
 "nbformat": 4,
 "nbformat_minor": 4
}
